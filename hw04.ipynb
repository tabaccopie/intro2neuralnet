{
 "cells": [
  {
   "cell_type": "markdown",
   "metadata": {},
   "source": [
    "## Практическое задание\n",
    "\n",
    "Вариант 1. \n",
    "\n",
    "- обучить сверточную нейронную сеть в стиле AlexNet (с падением размера ядра свертки и последовательностью блоков свертка-пулинг  (conv-pool)-(conv-pool)-...) на датасете fashion-mnist или cifar10\n",
    "- оценить рост точности при увеличении ширины сети (больше ядер)\n",
    "- оценить рост точности при увеличении глубины сети (больше слоев)\n",
    "- (опциционально)сравнить с точностью полносвязной сети для этой выборки\n"
   ]
  },
  {
   "cell_type": "code",
   "execution_count": 19,
   "metadata": {},
   "outputs": [],
   "source": [
    "import matplotlib.pyplot as plt\n",
    "\n",
    "import tensorflow.keras as keras\n",
    "from tensorflow.keras.models import Sequential\n",
    "from tensorflow.keras.layers import Conv2D, AveragePooling2D, Flatten, Dense \n",
    "from tensorflow.keras.utils import to_categorical\n",
    "from keras.datasets import fashion_mnist"
   ]
  },
  {
   "cell_type": "code",
   "execution_count": 4,
   "metadata": {},
   "outputs": [],
   "source": [
    "(train_images, train_labels), (test_images, test_labels) = fashion_mnist.load_data()"
   ]
  },
  {
   "cell_type": "code",
   "execution_count": 5,
   "metadata": {},
   "outputs": [],
   "source": [
    "# конвертация чисел из uint8 в float32\n",
    "train_images = train_images.astype('float32')\n",
    "test_images = test_images.astype('float32')\n",
    "\n",
    "# нормализация данных [0, 1]\n",
    "train_images /= 255 \n",
    "test_images /= 255 \n",
    "\n",
    "# трансформация лейблов в one-hot encoding\n",
    "train_labels = to_categorical(train_labels, 10) \n",
    "test_labels = to_categorical(test_labels, 10) \n",
    "\n",
    "# изменение размерности массива в 4D массив\n",
    "train_images = train_images.reshape(train_images.shape[0], 28,28,1)\n",
    "test_images = test_images.reshape(test_images.shape[0], 28,28,1)"
   ]
  },
  {
   "cell_type": "code",
   "execution_count": 6,
   "metadata": {},
   "outputs": [
    {
     "name": "stdout",
     "output_type": "stream",
     "text": [
      "(60000, 28, 28, 1)\n",
      "(60000, 10)\n",
      "(10000, 28, 28, 1)\n",
      "(10000, 10)\n"
     ]
    }
   ],
   "source": [
    "print(train_images.shape)  \n",
    "print(train_labels.shape) \n",
    "print(test_images.shape)   \n",
    "print(test_labels.shape)"
   ]
  },
  {
   "cell_type": "code",
   "execution_count": 7,
   "metadata": {},
   "outputs": [
    {
     "name": "stdout",
     "output_type": "stream",
     "text": [
      "Epoch 1/10\n",
      "237/237 [==============================] - 45s 189ms/step - loss: 1.1273 - accuracy: 0.6346 - val_loss: 0.7706 - val_accuracy: 0.7223\n",
      "Epoch 2/10\n",
      "237/237 [==============================] - 45s 191ms/step - loss: 0.6876 - accuracy: 0.7463 - val_loss: 0.6849 - val_accuracy: 0.7430\n",
      "Epoch 3/10\n",
      "237/237 [==============================] - 44s 185ms/step - loss: 0.6120 - accuracy: 0.7735 - val_loss: 0.6274 - val_accuracy: 0.7563\n",
      "Epoch 4/10\n",
      "237/237 [==============================] - 46s 192ms/step - loss: 0.5715 - accuracy: 0.7888 - val_loss: 0.5882 - val_accuracy: 0.7844\n",
      "Epoch 5/10\n",
      "237/237 [==============================] - 41s 174ms/step - loss: 0.5432 - accuracy: 0.8025 - val_loss: 0.5669 - val_accuracy: 0.7913\n",
      "Epoch 6/10\n",
      "237/237 [==============================] - 41s 175ms/step - loss: 0.5212 - accuracy: 0.8118 - val_loss: 0.5553 - val_accuracy: 0.7953\n",
      "Epoch 7/10\n",
      "237/237 [==============================] - 50s 209ms/step - loss: 0.5030 - accuracy: 0.8195 - val_loss: 0.5227 - val_accuracy: 0.8123\n",
      "Epoch 8/10\n",
      "237/237 [==============================] - 44s 186ms/step - loss: 0.4884 - accuracy: 0.8254 - val_loss: 0.5281 - val_accuracy: 0.8100\n",
      "Epoch 9/10\n",
      "237/237 [==============================] - 51s 216ms/step - loss: 0.4752 - accuracy: 0.8311 - val_loss: 0.5094 - val_accuracy: 0.8150\n",
      "Epoch 10/10\n",
      "237/237 [==============================] - 48s 202ms/step - loss: 0.4639 - accuracy: 0.8363 - val_loss: 0.4989 - val_accuracy: 0.8209\n",
      "313/313 [==============================] - 3s 9ms/step - loss: 0.4989 - accuracy: 0.8209\n",
      "Test loss 0.4989, accuracy 82.09%\n"
     ]
    }
   ],
   "source": [
    "# инициализация пустой модели\n",
    "model = Sequential()\n",
    "\n",
    "# первый сверточный слой\n",
    "model.add(Conv2D(6, kernel_size=(5, 5), strides=(1, 1), activation='tanh', input_shape=(28,28,1), padding=\"same\"))\n",
    "\n",
    "# второй пуллинговый слой\n",
    "model.add(AveragePooling2D(pool_size=(2, 2), strides=(1, 1), padding='valid'))\n",
    "\n",
    "# третий сверточный слой\n",
    "model.add(Conv2D(16, kernel_size=(5, 5), strides=(1, 1), activation='tanh', padding='valid'))\n",
    "\n",
    "# четвертый пуллинговый слой\n",
    "model.add(AveragePooling2D(pool_size=(2, 2), strides=(2, 2), padding='valid'))\n",
    "\n",
    "# пятый полносвязный слой\n",
    "model.add(Conv2D(120, kernel_size=(5, 5), strides=(1, 1), activation='tanh', padding='valid'))\n",
    "\n",
    "# сглаживание CNN выхода чтобы можно было его присоединить к полносвязному слою\n",
    "model.add(Flatten())\n",
    "\n",
    "# шестой полносвязный слой\n",
    "model.add(Dense(84, activation='tanh'))\n",
    "\n",
    "# выходной слой с функцией активации softmax\n",
    "model.add(Dense(10, activation='softmax'))\n",
    "\n",
    "# компилияция модели\n",
    "model.compile(loss=keras.losses.categorical_crossentropy, optimizer='SGD', metrics=[\"accuracy\"])\n",
    "\n",
    "hist = model.fit(x=train_images,y=train_labels, epochs=10, batch_size=254, validation_data=(test_images, test_labels), verbose=1)\n",
    "\n",
    "test_score = model.evaluate(test_images, test_labels)\n",
    "print(\"Test loss {:.4f}, accuracy {:.2f}%\".format(test_score[0], test_score[1] * 100))"
   ]
  },
  {
   "cell_type": "code",
   "execution_count": 8,
   "metadata": {},
   "outputs": [
    {
     "name": "stdout",
     "output_type": "stream",
     "text": [
      "Model: \"sequential\"\n",
      "_________________________________________________________________\n",
      "Layer (type)                 Output Shape              Param #   \n",
      "=================================================================\n",
      "conv2d (Conv2D)              (None, 28, 28, 6)         156       \n",
      "_________________________________________________________________\n",
      "average_pooling2d (AveragePo (None, 27, 27, 6)         0         \n",
      "_________________________________________________________________\n",
      "conv2d_1 (Conv2D)            (None, 23, 23, 16)        2416      \n",
      "_________________________________________________________________\n",
      "average_pooling2d_1 (Average (None, 11, 11, 16)        0         \n",
      "_________________________________________________________________\n",
      "conv2d_2 (Conv2D)            (None, 7, 7, 120)         48120     \n",
      "_________________________________________________________________\n",
      "flatten (Flatten)            (None, 5880)              0         \n",
      "_________________________________________________________________\n",
      "dense (Dense)                (None, 84)                494004    \n",
      "_________________________________________________________________\n",
      "dense_1 (Dense)              (None, 10)                850       \n",
      "=================================================================\n",
      "Total params: 545,546\n",
      "Trainable params: 545,546\n",
      "Non-trainable params: 0\n",
      "_________________________________________________________________\n"
     ]
    }
   ],
   "source": [
    "model.summary()"
   ]
  },
  {
   "cell_type": "code",
   "execution_count": 9,
   "metadata": {},
   "outputs": [],
   "source": [
    "y_pred=model.predict(test_images)"
   ]
  },
  {
   "cell_type": "code",
   "execution_count": 13,
   "metadata": {},
   "outputs": [
    {
     "data": {
      "image/png": "[encoded data removed]",
      "text/plain": [
       "<Figure size 432x288 with 1 Axes>"
      ]
     },
     "metadata": {
      "needs_background": "light"
     },
     "output_type": "display_data"
    },
    {
     "name": "stdout",
     "output_type": "stream",
     "text": [
      "[6.7189067e-05 1.9100614e-04 4.3472255e-04 2.6990825e-04 1.1156462e-03\n",
      " 6.8161920e-02 3.4963817e-04 2.7863896e-01 1.1616650e-02 6.3915443e-01]\n"
     ]
    },
    {
     "data": {
      "image/png": "[encoded data removed]",
      "text/plain": [
       "<Figure size 432x288 with 1 Axes>"
      ]
     },
     "metadata": {
      "needs_background": "light"
     },
     "output_type": "display_data"
    }
   ],
   "source": [
    "plt.plot(y_pred[0][:])\n",
    "plt.show()\n",
    "print(y_pred[0][:])\n",
    "plt.imshow(test_images[5][:,:,0])\n",
    "plt.show()"
   ]
  },
  {
   "cell_type": "markdown",
   "metadata": {},
   "source": [
    "#### Оценка роста точности при увеличении ширины сети (больше ядер)"
   ]
  },
  {
   "cell_type": "code",
   "execution_count": 17,
   "metadata": {},
   "outputs": [
    {
     "name": "stdout",
     "output_type": "stream",
     "text": [
      "1 kernels accuracy:\n",
      "\tTrain: 0.7049000263214111\n",
      "\tTest: 0.7014999985694885\n",
      "2 kernels accuracy:\n",
      "\tTrain: 0.7700833082199097\n",
      "\tTest: 0.760699987411499\n",
      "4 kernels accuracy:\n",
      "\tTrain: 0.7932500243186951\n",
      "\tTest: 0.7785000205039978\n",
      "8 kernels accuracy:\n",
      "\tTrain: 0.8113666772842407\n",
      "\tTest: 0.8015999794006348\n",
      "16 kernels accuracy:\n",
      "\tTrain: 0.8340833187103271\n",
      "\tTest: 0.8227999806404114\n",
      "32 kernels accuracy:\n",
      "\tTrain: 0.8412666916847229\n",
      "\tTest: 0.8270000219345093\n",
      "64 kernels accuracy:\n",
      "\tTrain: 0.8320666551589966\n",
      "\tTest: 0.819100022315979\n"
     ]
    }
   ],
   "source": [
    "for kernels in (1, 2, 4, 8, 16, 32, 64):\n",
    "\n",
    "  model = Sequential([\n",
    "      Conv2D(kernels, kernel_size=(5, 5), strides=(1, 1), activation='tanh', input_shape=(28, 28, 1), padding='same'),\n",
    "      AveragePooling2D(pool_size=(2, 2), strides=(1, 1), padding='valid'),\n",
    "      Conv2D(kernels, kernel_size=(5, 5), strides=(1, 1), activation='tanh', padding='valid'),\n",
    "      AveragePooling2D(pool_size=(2, 2), strides=(2, 2), padding='valid'),\n",
    "      Conv2D(kernels, kernel_size=(5, 5), strides=(1, 1), activation='tanh', padding='valid'),\n",
    "      Flatten(),\n",
    "      Dense(84, activation='tanh'),\n",
    "      Dense(10, activation='softmax')\n",
    "  ])\n",
    "\n",
    "  model.compile(loss=keras.losses.categorical_crossentropy, \n",
    "                optimizer='SGD', \n",
    "                metrics=[\"accuracy\"])\n",
    "\n",
    "  test_score = model.evaluate(test_images, test_labels, verbose=0)\n",
    "\n",
    "  hist = model.fit(x=train_images,y=train_labels, epochs=10, batch_size=254, validation_data=(test_images, test_labels), verbose=0)\n",
    "  \n",
    "  hist2 = model.evaluate(train_images, train_labels, verbose=0)\n",
    "  h_test = model.evaluate(test_images, test_labels, verbose=0)\n",
    "\n",
    "  print(f\"{kernels} kernels accuracy:\")\n",
    "  print(f\"\\tTrain: {hist2[1]}\")\n",
    "  print(f\"\\tTest: {h_test[1]}\")"
   ]
  },
  {
   "cell_type": "markdown",
   "metadata": {},
   "source": [
    "#### По результатам видно, что при увеличении ширины до 32 ядер точность растет, потом начинает падать (?)"
   ]
  },
  {
   "cell_type": "markdown",
   "metadata": {},
   "source": [
    "#### Оценка роста точности при увеличении глубины сети (больше слоев)"
   ]
  },
  {
   "cell_type": "code",
   "execution_count": 20,
   "metadata": {},
   "outputs": [],
   "source": [
    "# Повторим первую модель в 3 версиях - 1,2,3 слоя\n",
    "\n",
    "one_model = Sequential([\n",
    "    Conv2D(6, kernel_size=(5, 5), strides=(1, 1), activation='tanh', input_shape=(28,28,1), padding=\"same\"),\n",
    "    Flatten(),\n",
    "    Dense(64, activation='tanh'),\n",
    "    Dense(10, activation='softmax')\n",
    "])\n",
    "\n",
    "two_model = Sequential([\n",
    "    Conv2D(6, kernel_size=(5, 5), strides=(1, 1), activation='tanh', input_shape=(28,28,1), padding=\"same\"),\n",
    "    AveragePooling2D(pool_size=(2, 2), strides=(1, 1), padding='valid'),\n",
    "    Conv2D(16, kernel_size=(5, 5), strides=(1, 1), activation='tanh', padding='valid'),\n",
    "    Flatten(),\n",
    "    Dense(64, activation='tanh'),\n",
    "    Dense(10, activation='softmax')\n",
    "])\n",
    "\n",
    "three_model = Sequential([\n",
    "    Conv2D(6, kernel_size=(5, 5), strides=(1, 1), activation='tanh', input_shape=(28,28,1), padding=\"same\"),\n",
    "    AveragePooling2D(pool_size=(2, 2), strides=(1, 1), padding='valid'),\n",
    "    Conv2D(16, kernel_size=(5, 5), strides=(1, 1), activation='tanh', padding='valid'),\n",
    "    AveragePooling2D(pool_size=(2, 2), strides=(2, 2), padding='valid'),\n",
    "    Conv2D(120, kernel_size=(5, 5), strides=(1, 1), activation='tanh', padding='valid'),\n",
    "    Flatten(),\n",
    "    Dense(64, activation='tanh'),\n",
    "    Dense(10, activation='softmax')\n",
    "])"
   ]
  },
  {
   "cell_type": "code",
   "execution_count": 21,
   "metadata": {},
   "outputs": [
    {
     "name": "stdout",
     "output_type": "stream",
     "text": [
      "<tensorflow.python.keras.engine.sequential.Sequential object at 0x0000021EF2AA9DC0> accuracy:\n",
      "\tTrain: 0.8439000248908997\n",
      "\tTest: 0.8292999863624573\n",
      "<tensorflow.python.keras.engine.sequential.Sequential object at 0x0000021EF2AA9F70> accuracy:\n",
      "\tTrain: 0.8597666621208191\n",
      "\tTest: 0.8452000021934509\n",
      "<tensorflow.python.keras.engine.sequential.Sequential object at 0x0000021EF07ED0D0> accuracy:\n",
      "\tTrain: 0.8428000211715698\n",
      "\tTest: 0.8309000134468079\n"
     ]
    }
   ],
   "source": [
    "for model_name in (one_model, two_model, three_model):\n",
    "\n",
    "  # compile\n",
    "  model_name.compile(loss=keras.losses.categorical_crossentropy,\n",
    "                optimizer='SGD', \n",
    "                metrics=[\"accuracy\"])\n",
    "  \n",
    "  # calc errors\n",
    "  test_score = model_name.evaluate(test_images, test_labels, verbose=0)\n",
    " \n",
    "  # fitting\n",
    "  hist = model_name.fit(x=train_images,y=train_labels, epochs=10, batch_size=254, validation_data=(test_images, test_labels), verbose=0)\n",
    "  \n",
    "  hist2 = model_name.evaluate(train_images, train_labels, verbose=0)\n",
    "  h_test = model_name.evaluate(test_images, test_labels, verbose=0)\n",
    "\n",
    "  print(f\"{model_name} accuracy:\")\n",
    "  print(f\"\\tTrain: {hist2[1]}\")\n",
    "  print(f\"\\tTest: {h_test[1]}\")"
   ]
  },
  {
   "cell_type": "markdown",
   "metadata": {},
   "source": [
    "#### При увеличении количества слоев точность растет, потом падает."
   ]
  }
 ],
 "metadata": {
  "interpreter": {
   "hash": "c87bc8a93ee80b4fdb8bf2f0d6e2e42708066a8d3493891b866dc13be9e00029"
  },
  "kernelspec": {
   "display_name": "Python 3.8.12 ('dsenv_py38')",
   "language": "python",
   "name": "python3"
  },
  "language_info": {
   "codemirror_mode": {
    "name": "ipython",
    "version": 3
   },
   "file_extension": ".py",
   "mimetype": "text/x-python",
   "name": "python",
   "nbconvert_exporter": "python",
   "pygments_lexer": "ipython3",
   "version": "3.8.12"
  },
  "orig_nbformat": 4
 },
 "nbformat": 4,
 "nbformat_minor": 2
}
